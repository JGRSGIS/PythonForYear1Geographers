{
 "metadata": {
  "name": "",
  "signature": "sha256:b3987b8623e7f9cdd04b3ba26fe1e9a56ec98fb1fe31998406c0aebf500e543e"
 },
 "nbformat": 3,
 "nbformat_minor": 0,
 "worksheets": [
  {
   "cells": [
    {
     "cell_type": "heading",
     "level": 1,
     "metadata": {},
     "source": [
      "1.1 First Steps in Python: Notes with exercise answers"
     ]
    },
    {
     "cell_type": "heading",
     "level": 2,
     "metadata": {},
     "source": [
      "1.1.1 Printing Hello World"
     ]
    },
    {
     "cell_type": "heading",
     "level": 2,
     "metadata": {},
     "source": [
      "1.1.2 Exercise "
     ]
    },
    {
     "cell_type": "markdown",
     "metadata": {},
     "source": [
      "You should run the cell above with the print statement, just to confirm to youself that it works as intended.\n",
      "\n",
      "Since you will want to add things to this notebook, you should first *rename* it (`File -> Rename...` from the notebook menu), and call it e.g. `MyFirstSteps.ipynb` (or something similar). The notebook will automatically be save every now and then, but you should also click on the `Save` button when you have achieved something you want to save.\n",
      "\n",
      "Next, create a new cell (`Insert -> Insert Cell Below` from the notebook menu), as below:"
     ]
    },
    {
     "cell_type": "code",
     "collapsed": false,
     "input": [],
     "language": "python",
     "metadata": {},
     "outputs": [],
     "prompt_number": 6
    },
    {
     "cell_type": "markdown",
     "metadata": {},
     "source": [
      "and see what you can do with the `print` statement.\n",
      "\n",
      "Try seeing what happens if you use double quotes (`\"`) rather than single quotes (`'`) or if you use quotes within quotes.\n",
      "\n",
      "Try printing several strings, either using `print` statements on multiple lines, or by separating the words ('strings') you want to print by a comma:"
     ]
    },
    {
     "cell_type": "heading",
     "level": 2,
     "metadata": {},
     "source": [
      "Answer"
     ]
    },
    {
     "cell_type": "markdown",
     "metadata": {},
     "source": [
      "You should try things for yourself, but you might, for instance try:"
     ]
    },
    {
     "cell_type": "code",
     "collapsed": false,
     "input": [
      "# 2 print statements\n",
      "print 'hello'\n",
      "print 'world'"
     ],
     "language": "python",
     "metadata": {},
     "outputs": [
      {
       "output_type": "stream",
       "stream": "stdout",
       "text": [
        "hello\n",
        "world\n"
       ]
      }
     ],
     "prompt_number": 1
    },
    {
     "cell_type": "code",
     "collapsed": false,
     "input": [
      "# print multiple items on a single line\n",
      "print 'hello','world','again'"
     ],
     "language": "python",
     "metadata": {},
     "outputs": [
      {
       "output_type": "stream",
       "stream": "stdout",
       "text": [
        "hello world again\n"
       ]
      }
     ],
     "prompt_number": 3
    },
    {
     "cell_type": "code",
     "collapsed": false,
     "input": [
      "# quotes\n",
      "print \"hello\"\n",
      "print \"is the same as ...\"\n",
      "print 'hello'"
     ],
     "language": "python",
     "metadata": {},
     "outputs": [
      {
       "output_type": "stream",
       "stream": "stdout",
       "text": [
        "hello\n",
        "is the same as ...\n",
        "hello\n"
       ]
      }
     ],
     "prompt_number": 7
    },
    {
     "cell_type": "code",
     "collapsed": false,
     "input": [
      "# quotes within quotes\n",
      "# note the difference here\n",
      "print '\"hello\"'\n",
      "print \"'hello'\""
     ],
     "language": "python",
     "metadata": {},
     "outputs": [
      {
       "output_type": "stream",
       "stream": "stdout",
       "text": [
        "\"hello\"\n",
        "'hello'\n"
       ]
      }
     ],
     "prompt_number": 8
    },
    {
     "cell_type": "heading",
     "level": 2,
     "metadata": {},
     "source": [
      "1.1.4 Exercise "
     ]
    },
    {
     "cell_type": "markdown",
     "metadata": {},
     "source": [
      "Explore using various operators (`+,-,*,/,**`) on floating point numbers, strings and integers.\n",
      "\n",
      "You should use variables to store your data, e.g.:"
     ]
    },
    {
     "cell_type": "code",
     "collapsed": false,
     "input": [
      "# variable *called* pi\n",
      "pi = 3.1415926536\n",
      "\n",
      "r = 10.0\n",
      "\n",
      "result_name = \"area of circle of radius \" + str(r) + \" is\"\n",
      "\n",
      "print result_name,pi * (r**2)"
     ],
     "language": "python",
     "metadata": {},
     "outputs": [
      {
       "output_type": "stream",
       "stream": "stdout",
       "text": [
        "area of circle of radius 10.0 is 314.15926536\n"
       ]
      }
     ],
     "prompt_number": 9
    },
    {
     "cell_type": "markdown",
     "metadata": {},
     "source": [
      "When you write each line of code, try to explain to yourself what you think is happening, and perhaps make some notes.\n",
      "\n",
      "e.g.:"
     ]
    },
    {
     "cell_type": "code",
     "collapsed": false,
     "input": [
      "'''\n",
      "    First, I calculate 4/5.\n",
      "\n",
      "    Since 5. is float (it has a decimal point), the 4 will become float\n",
      "\n",
      "    This value (the result of the calculation 4.0/5.0) is then\n",
      "    assigned to (\"stored in\") the valiable called x\n",
      "\n",
      "    i.e. I put the result of the calculation 4.0/5.0 (which I expect to be 0.8)\n",
      "    into a 'box' that I have given the name x (like writing 'x' on the side\n",
      "    of the box as a label for this particular box)\n",
      "'''\n",
      "x = 4/5.\n",
      "\n",
      "'''\n",
      "    Now I print out the value of the valiable x\n",
      "\n",
      "    i.e. I print out the contents of the box I called (labelled) x\n",
      "    This should be 0.8\n",
      "\n",
      "'''\n",
      "print x\n",
      "\n",
      "'''\n",
      "    Now I assign the *string* \"1.4\" to the variable called y\n",
      "\n",
      "    i.e. I make a box with a label y on it, and put a string variable\n",
      "    (a 'word' if you like) into this box.\n",
      "'''\n",
      "y = '1.4'\n",
      "\n",
      "'''\n",
      "    I convert ('cast') the contents of the string variable y to\n",
      "    go from being a string to a floating point number (which should be\n",
      "    the value 1.4), and add this (+) to the value of the variable x, \n",
      "    and assign this to the variable called z.\n",
      "\n",
      "    i.e. I take the contents of the box called x (which contains a float) and the \n",
      "    contents of the box called y (which is a string, but which I convert to float)\n",
      "    and add this to the contents of x. I then put this in a new 'box' that I call z.\n",
      "\n",
      "    Since x should be ('contain') 0.8 and float(y) should be 1.4, I expect (the contents of) \n",
      "    z to be set to 0.8 + 1.4, which is 2.2, so I expect the contents of the variable z\n",
      "    to be a floating point number that is 2.2\n",
      "\n",
      "'''\n",
      "z = x + float(y)\n",
      "\n",
      "'''\n",
      "    Finally print (the contents ('value' ) of) z and the type of z to see ...\n",
      "'''\n",
      "print z,type(z)"
     ],
     "language": "python",
     "metadata": {},
     "outputs": [
      {
       "output_type": "stream",
       "stream": "stdout",
       "text": [
        "0.8\n",
        "2.2 <type 'float'>\n"
       ]
      }
     ],
     "prompt_number": 10
    },
    {
     "cell_type": "heading",
     "level": 2,
     "metadata": {},
     "source": [
      "Answer"
     ]
    },
    {
     "cell_type": "code",
     "collapsed": false,
     "input": [
      "'''\n",
      "    Lets try using + on some different data types\n",
      "'''\n",
      "\n",
      "# float\n",
      "x = 1.0\n",
      "# int\n",
      "y = 3\n",
      "\n",
      "# here, even though y was originally an int\n",
      "# it was converted to float before x was divided by it\n",
      "print x/y "
     ],
     "language": "python",
     "metadata": {},
     "outputs": [
      {
       "output_type": "stream",
       "stream": "stdout",
       "text": [
        "0.333333333333\n"
       ]
      }
     ],
     "prompt_number": 12
    },
    {
     "cell_type": "code",
     "collapsed": false,
     "input": [
      "x = 'hello'\n",
      "y = 3\n",
      "\n",
      "# this makes no sense ... adding a string to \n",
      "# an integer, and we think it should fail and give\n",
      "# an error\n",
      "print x + y"
     ],
     "language": "python",
     "metadata": {},
     "outputs": [
      {
       "ename": "TypeError",
       "evalue": "cannot concatenate 'str' and 'int' objects",
       "output_type": "pyerr",
       "traceback": [
        "\u001b[0;31m---------------------------------------------------------------------------\u001b[0m\n\u001b[0;31mTypeError\u001b[0m                                 Traceback (most recent call last)",
        "\u001b[0;32m<ipython-input-13-e2bffab84d79>\u001b[0m in \u001b[0;36m<module>\u001b[0;34m()\u001b[0m\n\u001b[1;32m      2\u001b[0m \u001b[0my\u001b[0m \u001b[0;34m=\u001b[0m \u001b[0;36m3\u001b[0m\u001b[0;34m\u001b[0m\u001b[0m\n\u001b[1;32m      3\u001b[0m \u001b[0;34m\u001b[0m\u001b[0m\n\u001b[0;32m----> 4\u001b[0;31m \u001b[0;32mprint\u001b[0m \u001b[0mx\u001b[0m \u001b[0;34m+\u001b[0m \u001b[0my\u001b[0m\u001b[0;34m\u001b[0m\u001b[0m\n\u001b[0m",
        "\u001b[0;31mTypeError\u001b[0m: cannot concatenate 'str' and 'int' objects"
       ]
      }
     ],
     "prompt_number": 13
    },
    {
     "cell_type": "code",
     "collapsed": false,
     "input": [
      "# try a longer formula here\n",
      "# notice we use brackets () as we normally would in maths\n",
      "\n",
      "a = 1.0\n",
      "b = 0.4\n",
      "c = 0.01\n",
      "\n",
      "# notice that in this equation, we raise b to the power of 2\n",
      "# i.e. squared\n",
      "# and (b**2 - 4 * a * c) to the power of 0.5 ... which is\n",
      "# the same as saying square root ...\n",
      "\n",
      "x = (-b - (b**2 - 4 * a * c) ** (0.5)) / ( 2 * a)\n",
      "\n",
      "print x\n"
     ],
     "language": "python",
     "metadata": {},
     "outputs": [
      {
       "output_type": "stream",
       "stream": "stdout",
       "text": [
        "-0.373205080757\n"
       ]
      }
     ],
     "prompt_number": 18
    },
    {
     "cell_type": "code",
     "collapsed": false,
     "input": [
      "# what would happen if we tried to take the square root \n",
      "# of a negative number with a float data type?\n",
      "\n",
      "# we might expect it to fail, as the answer\n",
      "# cannot be represented by a real number\n",
      "\n",
      "x = -0.5\n",
      "y = 0.5\n",
      "\n",
      "print x**y"
     ],
     "language": "python",
     "metadata": {},
     "outputs": [
      {
       "ename": "ValueError",
       "evalue": "negative number cannot be raised to a fractional power",
       "output_type": "pyerr",
       "traceback": [
        "\u001b[0;31m---------------------------------------------------------------------------\u001b[0m\n\u001b[0;31mValueError\u001b[0m                                Traceback (most recent call last)",
        "\u001b[0;32m<ipython-input-20-f220ac699dfe>\u001b[0m in \u001b[0;36m<module>\u001b[0;34m()\u001b[0m\n\u001b[1;32m      8\u001b[0m \u001b[0my\u001b[0m \u001b[0;34m=\u001b[0m \u001b[0;36m0.5\u001b[0m\u001b[0;34m\u001b[0m\u001b[0m\n\u001b[1;32m      9\u001b[0m \u001b[0;34m\u001b[0m\u001b[0m\n\u001b[0;32m---> 10\u001b[0;31m \u001b[0;32mprint\u001b[0m \u001b[0mx\u001b[0m\u001b[0;34m**\u001b[0m\u001b[0my\u001b[0m\u001b[0;34m\u001b[0m\u001b[0m\n\u001b[0m",
        "\u001b[0;31mValueError\u001b[0m: negative number cannot be raised to a fractional power"
       ]
      }
     ],
     "prompt_number": 20
    },
    {
     "cell_type": "code",
     "collapsed": false,
     "input": [
      "# for interest, we might suppose there is another data type 'complex'\n",
      "# which can represent numbers with real and imaginary parts (if that\n",
      "# means anything to you!!)\n",
      "\n",
      "x = complex(-0.5)\n",
      "y = 0.5\n",
      "\n",
      "# we would hope this would work now\n",
      "# and print a complex number (if we ever \n",
      "# want to use such concepts)\n",
      "print x**y"
     ],
     "language": "python",
     "metadata": {},
     "outputs": [
      {
       "output_type": "stream",
       "stream": "stdout",
       "text": [
        "(4.32978028118e-17+0.707106781187j)\n"
       ]
      }
     ],
     "prompt_number": 22
    }
   ],
   "metadata": {}
  }
 ]
}