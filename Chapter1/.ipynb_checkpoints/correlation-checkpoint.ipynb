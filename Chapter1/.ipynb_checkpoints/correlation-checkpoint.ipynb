{
 "metadata": {
  "name": "",
  "signature": "sha256:a6e1b3c2285748adee7f224b7047c288929444337050201b2cd7eed7afae7254"
 },
 "nbformat": 3,
 "nbformat_minor": 0,
 "worksheets": [
  {
   "cells": [
    {
     "cell_type": "heading",
     "level": 1,
     "metadata": {},
     "source": [
      "1.2 Correlation analysis"
     ]
    },
    {
     "cell_type": "markdown",
     "metadata": {},
     "source": [
      "In this section, we will learn:\n",
      "\n",
      "* how to read some data in from a file\n",
      "* some simple plotting\n",
      "* some simple statistics"
     ]
    },
    {
     "cell_type": "heading",
     "level": 2,
     "metadata": {},
     "source": [
      "1.2.1 Read some data in"
     ]
    },
    {
     "cell_type": "markdown",
     "metadata": {},
     "source": [
      "We suppose that we have a data file called `1003_Lec_4-African_mortality_data_2014-15.csv` in a directory ('folder, if you prefer) `data`.\n",
      "\n",
      "The 'location' of the file (i.e. where it is on the computer system) then is:\n",
      "\n",
      "`data/1003_Lec_4-African_mortality_data_2014-15.csv`.\n",
      "\n",
      "We can look at what the file contains by following a [link to the file](data/1003_Lec_4-African_mortality_data_2014-15.csv):"
     ]
    },
    {
     "cell_type": "markdown",
     "metadata": {},
     "source": [
      "We should see that it contains what looks like lines and columns of numbers (this is a dataset from the data analysis course).\n",
      "\n",
      "It looks something like:\n",
      "\n",
      "`106,187,6.8,152,42,1612,79,36,100.7\n",
      "58,77,4.89,352,48.8,1735,94,23,81.6\n",
      "93,140,5.09,725,55.5,2218,80,50,81.1\n",
      "65,94,5.53,171,45.6,1690,57,9,88.1\n",
      "100,172,5.87,173,32.4,2037,22,6,91.2\n",
      "68,118,5,330,77.3,2059,62,48,85.2\n",
      "...`\n",
      "\n",
      "The first thing we want to do is read these data **into a variable** so that we can manipulate them.\n",
      "\n",
      "We notice that the format of the file is [`csv`](http://en.wikipedia.org/wiki/Comma-separated_values).\n",
      "\n",
      "there are many ways we could read the data in in python, but we would commonly use a method called `loadtxt` that is in a [module](https://docs.python.org/2/tutorial/modules.html) called [`numpy`](http://www.numpy.org). This contains a host of methods that we can use for processing and analysing numerical data.\n",
      "\n",
      "We first must tell the python interpreter to 'load' (`import`) this module. \n",
      "\n",
      "Since we may find it tedious to have to write `numpy` lots of times, we give it a short name `np`.\n",
      "\n",
      "We can then refer to the `loadtxt` method that is in `numpy` as [`np.loadtxt`](http://docs.scipy.org/doc/numpy/reference/generated/numpy.loadtxt.html):"
     ]
    },
    {
     "cell_type": "code",
     "collapsed": false,
     "input": [
      "# import the numpy module\n",
      "# and give it the name np\n",
      "import numpy as np\n",
      "\n",
      "# set up a string variable called filename\n",
      "# that contains the location of the file we want to\n",
      "# look at\n",
      "filename = 'data/1003_Lec_4-African_mortality_data_2014-15.csv'\n",
      "\n",
      "# use the method np.loadtxt, giving it the file name string\n",
      "# as an argument.\n",
      "# since these are csv data, we need to tell the method \n",
      "# that columns of data are separated by comma (,)  \n",
      "# we do this by setting an option called delimiter\n",
      "# to an appropriate value\n",
      "\n",
      "data = np.loadtxt(filename, delimiter=',')"
     ],
     "language": "python",
     "metadata": {},
     "outputs": [],
     "prompt_number": 14
    },
    {
     "cell_type": "code",
     "collapsed": false,
     "input": [
      "# now lets print out what we read (and stored in the variable\n",
      "# called data)\n",
      "print data"
     ],
     "language": "python",
     "metadata": {},
     "outputs": [
      {
       "output_type": "stream",
       "stream": "stdout",
       "text": [
        "[[  1.06000000e+02   1.87000000e+02   6.80000000e+00   1.52000000e+02\n",
        "    4.20000000e+01   1.61200000e+03   7.90000000e+01   3.60000000e+01\n",
        "    1.00700000e+02]\n",
        " [  5.80000000e+01   7.70000000e+01   4.89000000e+00   3.52000000e+02\n",
        "    4.88000000e+01   1.73500000e+03   9.40000000e+01   2.30000000e+01\n",
        "    8.16000000e+01]\n",
        " [  9.30000000e+01   1.40000000e+02   5.09000000e+00   7.25000000e+02\n",
        "    5.55000000e+01   2.21800000e+03   8.00000000e+01   5.00000000e+01\n",
        "    8.11000000e+01]\n",
        " [  6.50000000e+01   9.40000000e+01   5.53000000e+00   1.71000000e+02\n",
        "    4.56000000e+01   1.69000000e+03   5.70000000e+01   9.00000000e+00\n",
        "    8.81000000e+01]\n",
        " [  1.00000000e+02   1.72000000e+02   5.87000000e+00   1.73000000e+02\n",
        "    3.24000000e+01   2.03700000e+03   2.20000000e+01   6.00000000e+00\n",
        "    9.12000000e+01]\n",
        " [  6.80000000e+01   1.18000000e+02   5.00000000e+00   3.30000000e+02\n",
        "    7.73000000e+01   2.05900000e+03   6.20000000e+01   4.80000000e+01\n",
        "    8.52000000e+01]\n",
        " [  7.90000000e+01   1.31000000e+02   5.40000000e+00   2.27000000e+02\n",
        "    6.06000000e+01   2.07200000e+03   4.50000000e+01   3.30000000e+01\n",
        "    8.87000000e+01]\n",
        " [  1.11000000e+02   1.84000000e+02   6.10000000e+00   2.18000000e+02\n",
        "    4.76000000e+01   2.16800000e+03   6.70000000e+01   4.60000000e+01\n",
        "    9.40000000e+01]\n",
        " [  1.50000000e+01   1.80000000e+01   1.97000000e+00   3.63300000e+03\n",
        "    8.17000000e+01   2.99500000e+03   1.00000000e+02   9.90000000e+01\n",
        "    3.92000000e+01]\n",
        " [  1.01000000e+02   1.82000000e+02   5.51000000e+00   2.47000000e+02\n",
        "    3.00000000e+01   1.98000000e+03   4.20000000e+01   2.70000000e+01\n",
        "    8.70000000e+01]\n",
        " [  1.16000000e+02   1.90000000e+02   5.70000000e+00   3.04000000e+02\n",
        "    6.19000000e+01   2.08600000e+03   7.30000000e+01   4.10000000e+01\n",
        "    9.64000000e+01]\n",
        " [  8.10000000e+01   1.39000000e+02   7.10000000e+00   2.97000000e+02\n",
        "    5.80000000e+01   2.39800000e+03   5.60000000e+01   4.10000000e+01\n",
        "    1.09900000e+02]\n",
        " [  1.04000000e+02   1.64000000e+02   5.04000000e+00   1.63000000e+02\n",
        "    6.79000000e+01   1.99800000e+03   7.30000000e+01   4.60000000e+01\n",
        "    8.61000000e+01]\n",
        " [  9.50000000e+01   1.73000000e+02   5.65000000e+00   3.96000000e+02\n",
        "    7.27000000e+01   1.88500000e+03   5.50000000e+01   4.50000000e+01\n",
        "    9.48000000e+01]\n",
        " [  6.20000000e+01   1.17000000e+02   3.56000000e+00   7.92000000e+02\n",
        "    8.55000000e+01   2.13300000e+03   8.30000000e+01   5.70000000e+01\n",
        "    8.12000000e+01]\n",
        " [  9.40000000e+01   1.63000000e+02   4.65000000e+00   1.12100000e+03\n",
        "    6.51000000e+01   2.24200000e+03   6.30000000e+01   4.80000000e+01\n",
        "    8.31000000e+01]\n",
        " [  9.80000000e+01   1.76000000e+02   4.96000000e+00   4.01000000e+02\n",
        "    3.66000000e+01   1.94900000e+03   7.50000000e+01   2.70000000e+01\n",
        "    8.51000000e+01]\n",
        " [  1.16000000e+02   2.03000000e+02   6.65000000e+00   2.69000000e+02\n",
        "    3.58000000e+01   2.24500000e+03   3.40000000e+01   8.00000000e+00\n",
        "    9.74000000e+01]\n",
        " [  7.20000000e+01   1.08000000e+02   6.29000000e+00   8.99000000e+02\n",
        "    7.59000000e+01   2.22100000e+03   4.60000000e+01   9.00000000e+00\n",
        "    9.56000000e+01]\n",
        " [  1.19000000e+02   2.12000000e+02   6.70000000e+00   1.01000000e+02\n",
        "    5.18000000e+01   1.53500000e+03   4.60000000e+01   2.90000000e+01\n",
        "    9.69000000e+01]\n",
        " [  3.70000000e+01   4.10000000e+01   2.53000000e+00   2.40200000e+03\n",
        "    5.83000000e+01   2.98700000e+03   8.70000000e+01   9.20000000e+01\n",
        "    5.72000000e+01]\n",
        " [  3.70000000e+01   4.30000000e+01   3.29000000e+00   1.53800000e+03\n",
        "    4.48000000e+01   3.38500000e+03   9.80000000e+01   6.80000000e+01\n",
        "    6.27000000e+01]\n",
        " [  1.90000000e+01   2.10000000e+01   3.03000000e+00   5.09200000e+03\n",
        "    6.93000000e+01   3.33300000e+03   7.20000000e+01   9.70000000e+01\n",
        "    5.35000000e+01]\n",
        " [  3.80000000e+01   4.60000000e+01   2.76000000e+00   1.12300000e+03\n",
        "    3.72000000e+01   3.04600000e+03   8.00000000e+01   6.10000000e+01\n",
        "    5.59000000e+01]\n",
        " [  7.20000000e+01   1.19000000e+02   4.45000000e+00   1.69500000e+03\n",
        "    4.77000000e+01   2.28800000e+03   6.90000000e+01   3.40000000e+01\n",
        "    7.46000000e+01]\n",
        " [  2.20000000e+01   2.50000000e+01   2.00000000e+00   2.04800000e+03\n",
        "    6.19000000e+01   3.29300000e+03   8.20000000e+01   8.00000000e+01\n",
        "    4.93000000e+01]\n",
        " [  5.10000000e+01   1.06000000e+02   3.20000000e+00   3.38800000e+03\n",
        "    8.06000000e+01   2.29200000e+03   9.50000000e+01   4.10000000e+01\n",
        "    6.92000000e+01]\n",
        " [  6.70000000e+01   1.23000000e+02   3.65000000e+00   4.88000000e+02\n",
        "    9.39000000e+01   2.32000000e+03   7.60000000e+01   3.70000000e+01\n",
        "    7.82000000e+01]\n",
        " [  4.40000000e+01   7.80000000e+01   3.95000000e+00   1.87900000e+03\n",
        "    8.19000000e+01   2.74500000e+03   8.00000000e+01   3.00000000e+01\n",
        "    8.47000000e+01]\n",
        " [  4.30000000e+01   7.40000000e+01   2.80000000e+00   2.90900000e+03\n",
        "    8.50000000e+01   2.92100000e+03   8.70000000e+01   6.70000000e+01\n",
        "    5.53000000e+01]\n",
        " [  7.30000000e+01   1.43000000e+02   3.95000000e+00   1.15700000e+03\n",
        "    7.94000000e+01   2.59300000e+03   5.20000000e+01   5.20000000e+01\n",
        "    8.55000000e+01]\n",
        " [  1.05000000e+02   1.61000000e+02   5.87000000e+00   3.99000000e+02\n",
        "    2.46000000e+01   2.45500000e+03   6.80000000e+01   3.20000000e+01\n",
        "    9.10000000e+01]\n",
        " [  1.21000000e+02   1.96000000e+02   6.67000000e+00   4.22000000e+02\n",
        "    1.49000000e+01   2.48500000e+03   5.10000000e+01   1.20000000e+01\n",
        "    1.02700000e+02]\n",
        " [  3.00000000e+01   3.60000000e+01   3.77000000e+00   1.19000000e+03\n",
        "    6.70000000e+01   3.30800000e+03   8.00000000e+01   4.20000000e+01\n",
        "    8.42000000e+01]\n",
        " [  1.18000000e+02   1.89000000e+02   5.06000000e+00   9.11000000e+02\n",
        "    3.84000000e+01   2.59400000e+03   8.40000000e+01   4.00000000e+01\n",
        "    8.35000000e+01]\n",
        " [  7.70000000e+01   1.29000000e+02   4.75000000e+00   3.76000000e+02\n",
        "    3.09000000e+01   2.30000000e+03   8.20000000e+01   5.30000000e+01\n",
        "    7.75000000e+01]\n",
        " [  6.20000000e+01   1.02000000e+02   4.39000000e+00   4.79000000e+02\n",
        "    6.45000000e+01   2.67000000e+03   7.90000000e+01   5.80000000e+01\n",
        "    7.71000000e+01]\n",
        " [  1.20000000e+02   2.11000000e+02   7.10000000e+00   1.93000000e+02\n",
        "    2.47000000e+01   2.48100000e+03   5.90000000e+01   3.40000000e+01\n",
        "    9.69000000e+01]\n",
        " [  1.42000000e+02   2.24000000e+02   6.80000000e+00   1.46000000e+02\n",
        "    3.81000000e+01   1.94600000e+03   6.20000000e+01   2.60000000e+01\n",
        "    9.48000000e+01]\n",
        " [  1.33000000e+02   2.20000000e+02   6.92000000e+00   3.41000000e+02\n",
        "    1.66000000e+01   2.37600000e+03   4.80000000e+01   4.50000000e+01\n",
        "    1.02600000e+02]\n",
        " [  9.70000000e+01   1.56000000e+02   5.79000000e+00   5.98000000e+02\n",
        "    3.07000000e+01   2.76400000e+03   5.60000000e+01   4.20000000e+01\n",
        "    8.42000000e+01]\n",
        " [  1.53000000e+02   2.64000000e+02   7.91000000e+00   2.69000000e+02\n",
        "    8.90000000e+00   2.11800000e+03   4.60000000e+01   1.20000000e+01\n",
        "    1.02700000e+02]\n",
        " [  1.14000000e+02   2.00000000e+02   5.85000000e+00   3.70000000e+02\n",
        "    5.77000000e+01   2.74700000e+03   6.00000000e+01   3.80000000e+01\n",
        "    9.05000000e+01]\n",
        " [  8.30000000e+01   1.33000000e+02   5.05000000e+00   7.69000000e+02\n",
        "    2.87000000e+01   2.27700000e+03   7.20000000e+01   5.20000000e+01\n",
        "    8.85000000e+01]\n",
        " [  9.30000000e+01   1.37000000e+02   5.37000000e+00   3.38000000e+02\n",
        "    4.40000000e+01   2.28700000e+03   5.10000000e+01   3.40000000e+01\n",
        "    8.42000000e+01]]\n"
       ]
      }
     ],
     "prompt_number": 15
    },
    {
     "cell_type": "markdown",
     "metadata": {},
     "source": [
      "You should be able to see a correspondence between what is printed out and what we saw the file contained.\n",
      "\n",
      "When we print the contents of the variable `data` here, we notice that it is arranged within a heirarchy of square brackets (`[`,`]`), e.g.:\n",
      "\n",
      "`[[  1.06000000e+02   1.87000000e+02   6.80000000e+00   1.52000000e+02\n",
      "    4.20000000e+01   1.61200000e+03   7.90000000e+01   3.60000000e+01\n",
      "    1.00700000e+02]\n",
      " [  5.80000000e+01   7.70000000e+01   4.89000000e+00   3.52000000e+02\n",
      "    4.88000000e+01   1.73500000e+03   9.40000000e+01   2.30000000e+01\n",
      "    8.16000000e+01]\n",
      "  ... ]`\n",
      "  \n",
      "The *data type* here is `numpy.ndarray`"
     ]
    },
    {
     "cell_type": "code",
     "collapsed": false,
     "input": [
      "print type(data)"
     ],
     "language": "python",
     "metadata": {},
     "outputs": [
      {
       "output_type": "stream",
       "stream": "stdout",
       "text": [
        "<type 'numpy.ndarray'>\n"
       ]
      }
     ],
     "prompt_number": 16
    },
    {
     "cell_type": "markdown",
     "metadata": {},
     "source": [
      "which is a new one for us at this point. It is called a *numpy array* (more formally, a *numpy n-dimensional* array).\n",
      "\n",
      "In this case, we would expect the dataset to be two-dimensional (we read in a table of data in columns are rows).\n",
      "\n",
      "We can check the siza and shape of a numpy array:"
     ]
    },
    {
     "cell_type": "code",
     "collapsed": false,
     "input": [
      "# 45 rows, 9 columns ...\n",
      "print data.shape"
     ],
     "language": "python",
     "metadata": {},
     "outputs": [
      {
       "output_type": "stream",
       "stream": "stdout",
       "text": [
        "(45, 9)\n"
       ]
      }
     ],
     "prompt_number": 17
    },
    {
     "cell_type": "code",
     "collapsed": false,
     "input": [
      "# 45 * 9 = 405, so there are\n",
      "# 405 elements in total in the array\n",
      "print data.size"
     ],
     "language": "python",
     "metadata": {},
     "outputs": [
      {
       "output_type": "stream",
       "stream": "stdout",
       "text": [
        "405\n"
       ]
      }
     ],
     "prompt_number": 18
    },
    {
     "cell_type": "markdown",
     "metadata": {},
     "source": [
      "If we preferred to have the data stored in column-row order (rather than row-column as here) we can 'transpose' the dataset:"
     ]
    },
    {
     "cell_type": "code",
     "collapsed": false,
     "input": [
      "# .T is a numpy transpose operation\n",
      "# i.e. switch the order around\n",
      "# here we store the transposed data \n",
      "# in a variable called datat\n",
      "\n",
      "datat = data.T\n",
      "\n",
      "# the shape is now 'the other way around'\n",
      "print datat.shape"
     ],
     "language": "python",
     "metadata": {},
     "outputs": [
      {
       "output_type": "stream",
       "stream": "stdout",
       "text": [
        "(9, 45)\n"
       ]
      }
     ],
     "prompt_number": 21
    },
    {
     "cell_type": "markdown",
     "metadata": {},
     "source": [
      "with column-row order order, we can refer to the first column of data as `datat[0]` (the second as `datat[1]` ... etc ... and the 'last' one as `datat[-1]` if we want)."
     ]
    },
    {
     "cell_type": "code",
     "collapsed": false,
     "input": [
      "# print the shape of the first column of data\n",
      "\n",
      "print datat[0].shape"
     ],
     "language": "python",
     "metadata": {},
     "outputs": [
      {
       "output_type": "stream",
       "stream": "stdout",
       "text": [
        "(45,)\n"
       ]
      }
     ],
     "prompt_number": 26
    },
    {
     "cell_type": "markdown",
     "metadata": {},
     "source": [
      "In fact, we could have set an option in `np.loadtxt` to automatrically give the data in column-row order:\n"
     ]
    },
    {
     "cell_type": "code",
     "collapsed": false,
     "input": [
      "# generally you will do this\n",
      "\n",
      "datat = np.loadtxt(filename, delimiter=',',unpack=True)\n",
      "print datat.shape"
     ],
     "language": "python",
     "metadata": {},
     "outputs": [
      {
       "output_type": "stream",
       "stream": "stdout",
       "text": [
        "(9, 45)\n"
       ]
      }
     ],
     "prompt_number": 27
    },
    {
     "cell_type": "code",
     "collapsed": false,
     "input": [
      "# print the first column of data\n",
      "print datat[0]\n",
      "# check this against what you have seen in the file"
     ],
     "language": "python",
     "metadata": {},
     "outputs": [
      {
       "output_type": "stream",
       "stream": "stdout",
       "text": [
        "[ 106.   58.   93.   65.  100.   68.   79.  111.   15.  101.  116.   81.\n",
        "  104.   95.   62.   94.   98.  116.   72.  119.   37.   37.   19.   38.\n",
        "   72.   22.   51.   67.   44.   43.   73.  105.  121.   30.  118.   77.\n",
        "   62.  120.  142.  133.   97.  153.  114.   83.   93.]\n"
       ]
      }
     ],
     "prompt_number": 29
    },
    {
     "cell_type": "heading",
     "level": 2,
     "metadata": {},
     "source": [
      "1.2.2 Simple plotting"
     ]
    },
    {
     "cell_type": "markdown",
     "metadata": {},
     "source": [
      "Generally, we will do graph / image plotting using a module called [`matplotlib`](http://matplotlib.org) (or `pylab`).\n",
      "\n",
      "First, we tell the notebook that we want graphs to pop up in the notebook (`%matplotlib inline`).\n",
      "\n",
      "Then we load `matplotlib.pyplot` and call it `plt`:"
     ]
    },
    {
     "cell_type": "code",
     "collapsed": false,
     "input": [
      "%matplotlib inline\n",
      "import matplotlib.pyplot as plt\n",
      "\n",
      "print 'we are now ready for graphing!'"
     ],
     "language": "python",
     "metadata": {},
     "outputs": [
      {
       "output_type": "stream",
       "stream": "stdout",
       "text": [
        "we are now ready for graphing!\n"
       ]
      }
     ],
     "prompt_number": 31
    },
    {
     "cell_type": "code",
     "collapsed": false,
     "input": [
      "# set the variable x to be the first column of data\n",
      "x = datat[0]\n",
      "# set the variable y to be the second column of data\n",
      "y = datat[1]\n",
      "\n",
      "# plot y against x with red crosses (r+)\n",
      "plt.plot(x,y,'r+')\n",
      "# labels\n",
      "plt.xlabel('x')\n",
      "plt.ylabel('y')"
     ],
     "language": "python",
     "metadata": {},
     "outputs": [
      {
       "metadata": {},
       "output_type": "pyout",
       "prompt_number": 35,
       "text": [
        "<matplotlib.text.Text at 0x1087da410>"
       ]
      },
      {
       "metadata": {},
       "output_type": "display_data",
       "png": "[encoded data removed]",
       "text": [
        "<matplotlib.figure.Figure at 0x1088f3990>"
       ]
      }
     ],
     "prompt_number": 35
    },
    {
     "cell_type": "heading",
     "level": 2,
     "metadata": {},
     "source": [
      "1.2.3 Simple statistics"
     ]
    },
    {
     "cell_type": "markdown",
     "metadata": {},
     "source": [
      "We can see form the plot above that there is a strong linear relationship between `y` and `x` here.\n",
      "\n",
      "Let's formalise this by calculating some descriptive statistics.\n",
      "\n",
      "We can use the method [`linregress`](http://docs.scipy.org/doc/scipy-0.14.0/reference/generated/scipy.stats.linregress.html) that is in the module `scipy.stats`:"
     ]
    },
    {
     "cell_type": "code",
     "collapsed": false,
     "input": [
      "from scipy import stats\n",
      "\n",
      "result = stats.linregress(x,y)"
     ],
     "language": "python",
     "metadata": {},
     "outputs": [],
     "prompt_number": 36
    },
    {
     "cell_type": "code",
     "collapsed": false,
     "input": [
      "# what is returned from this method??\n",
      "print result"
     ],
     "language": "python",
     "metadata": {},
     "outputs": [
      {
       "output_type": "stream",
       "stream": "stdout",
       "text": [
        "(1.767441920754365, -9.3689972105370884, 0.98333559833707929, 1.7870947565140415e-33, 0.049831289770762205)\n"
       ]
      }
     ],
     "prompt_number": 37
    },
    {
     "cell_type": "markdown",
     "metadata": {},
     "source": [
      "If we look at the [help page](http://docs.scipy.org/doc/scipy-0.14.0/reference/generated/scipy.stats.linregress.html) for this method, we can see that what it really returns is:"
     ]
    },
    {
     "cell_type": "code",
     "collapsed": false,
     "input": [
      "slope, intercept, r_value, p_value, std_err = stats.linregress(x,y)"
     ],
     "language": "python",
     "metadata": {},
     "outputs": [],
     "prompt_number": 38
    },
    {
     "cell_type": "code",
     "collapsed": false,
     "input": [
      "print 'slope',slope\n",
      "print 'intercept',intercept\n",
      "print 'r_value',r_value\n",
      "print 'p_value',p_value\n",
      "print 'std_err',std_err"
     ],
     "language": "python",
     "metadata": {},
     "outputs": [
      {
       "output_type": "stream",
       "stream": "stdout",
       "text": [
        "slope 1.76744192075\n",
        "intercept -9.36899721054\n",
        "r_value 0.983335598337\n",
        "p_value 1.78709475651e-33\n",
        "std_err 0.0498312897708\n"
       ]
      }
     ],
     "prompt_number": 39
    },
    {
     "cell_type": "markdown",
     "metadata": {},
     "source": [
      "we might now be interested in plotting this on the graph:"
     ]
    },
    {
     "cell_type": "code",
     "collapsed": false,
     "input": [
      "# this gives the minimum value in the array x\n",
      "xmin = x.min()\n",
      "# this gives the maximum value in the array x\n",
      "xmax = x.max()\n",
      "\n",
      "# put these 2 numbers into a numpy array\n",
      "xline = np.array([xmin,xmax])\n",
      "\n",
      "# now this is the clever bit with array processing\n",
      "yline = intercept + slope * xline"
     ],
     "language": "python",
     "metadata": {},
     "outputs": [],
     "prompt_number": 43
    },
    {
     "cell_type": "code",
     "collapsed": false,
     "input": [
      "# plot y against x with red crosses (r+)\n",
      "plt.plot(x,y,'r+')\n",
      "# plot the best fit line with a black (k) dashed line\n",
      "plt.plot(xline,yline,'k--')\n",
      "\n",
      "# labels\n",
      "plt.xlabel('x')\n",
      "plt.ylabel('y')\n",
      "# title\n",
      "plt.title('R^2 = ' + str(r_value ** 2))"
     ],
     "language": "python",
     "metadata": {},
     "outputs": [
      {
       "metadata": {},
       "output_type": "pyout",
       "prompt_number": 46,
       "text": [
        "<matplotlib.text.Text at 0x10a2bf890>"
       ]
      },
      {
       "metadata": {},
       "output_type": "display_data",
       "png": "[encoded data removed]",
       "text": [
        "<matplotlib.figure.Figure at 0x10a2698d0>"
       ]
      }
     ],
     "prompt_number": 46
    }
   ],
   "metadata": {}
  }
 ]
}