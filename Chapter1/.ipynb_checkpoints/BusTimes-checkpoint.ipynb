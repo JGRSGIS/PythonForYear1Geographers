{
 "metadata": {
  "name": "",
  "signature": "sha256:fd946401b03c57dd5a54f6d672056ce88891a279123f6dd64ff31f70c5983fc4"
 },
 "nbformat": 3,
 "nbformat_minor": 0,
 "worksheets": [
  {
   "cells": [
    {
     "cell_type": "heading",
     "level": 1,
     "metadata": {},
     "source": [
      "1.3 Pulling a data feed from the web"
     ]
    },
    {
     "cell_type": "heading",
     "level": 2,
     "metadata": {},
     "source": [
      "1.3.1 Read some data from a file"
     ]
    },
    {
     "cell_type": "markdown",
     "metadata": {},
     "source": [
      "You will probably be used to standing at a bus stop and looking at your phone or the bus stop sign to see how long you have to wait for a bus.\n",
      "\n",
      "TFL make such data publically available, so we can do some analysis on it.\n",
      "\n",
      "First, we need to read a (csv) file that contains information on the bus stop codes that TFL use (these are written on a yellow sign on each bus stop in London)."
     ]
    },
    {
     "cell_type": "code",
     "collapsed": false,
     "input": [
      "import numpy as np\n",
      "\n",
      "# the first line of the file is:\n",
      "labels = \"Stop_Code_LBSL,Bus_Stop_Code,Naptan_Atco,Stop_Name,Location_Easting,\"\\\n",
      "            + \"Location_Northing,Heading,Stop_Area,Virtual_Bus_Stop\"\n",
      "# split this string on , to get the column headings\n",
      "keys = labels.split(',')\n",
      "\n",
      "busdata = np.loadtxt('data/busstops.csv',unpack=True,delimiter =',',dtype=str)"
     ],
     "language": "python",
     "metadata": {},
     "outputs": [],
     "prompt_number": 63
    },
    {
     "cell_type": "code",
     "collapsed": false,
     "input": [
      "# this is an array, with 9 columns and 19606 rows!!!\n",
      "# so 19606 bus stops covered\n",
      "busdata.shape"
     ],
     "language": "python",
     "metadata": {},
     "outputs": [
      {
       "metadata": {},
       "output_type": "pyout",
       "prompt_number": 64,
       "text": [
        "(9, 19606)"
       ]
      }
     ],
     "prompt_number": 64
    },
    {
     "cell_type": "code",
     "collapsed": false,
     "input": [
      "# we can combine the labels with the datasets \n",
      "# with a method called zip\n",
      "# and make what we call a dictionary\n",
      "\n",
      "busstops = dict(zip(keys,busdata))"
     ],
     "language": "python",
     "metadata": {},
     "outputs": [],
     "prompt_number": 65
    },
    {
     "cell_type": "code",
     "collapsed": false,
     "input": [
      "# so these are the columns of data\n",
      "print busstops.keys()"
     ],
     "language": "python",
     "metadata": {},
     "outputs": [
      {
       "output_type": "stream",
       "stream": "stdout",
       "text": [
        "['Naptan_Atco', 'Stop_Area', 'Stop_Code_LBSL', 'Virtual_Bus_Stop', 'Bus_Stop_Code', 'Location_Easting', 'Stop_Name', 'Heading', 'Location_Northing']\n"
       ]
      }
     ],
     "prompt_number": 66
    },
    {
     "cell_type": "code",
     "collapsed": false,
     "input": [
      "# e.g. lets look at Bus_Stop_Code \n",
      "bus_code = busstops['Bus_Stop_Code']"
     ],
     "language": "python",
     "metadata": {},
     "outputs": [],
     "prompt_number": 67
    },
    {
     "cell_type": "code",
     "collapsed": false,
     "input": [
      "print bus_code"
     ],
     "language": "python",
     "metadata": {},
     "outputs": [
      {
       "output_type": "stream",
       "stream": "stdout",
       "text": [
        "['91532' '72689' '48461' ..., '72340' '52336' '56604']\n"
       ]
      }
     ],
     "prompt_number": 68
    },
    {
     "cell_type": "heading",
     "level": 2,
     "metadata": {},
     "source": [
      "1.3.2 make a web request"
     ]
    },
    {
     "cell_type": "markdown",
     "metadata": {},
     "source": [
      "Access to the bus information is via sending a request (for specific information) to the tfl server `countdown.tfl.gov.uk`.\n",
      "\n",
      "For instance, if we want the in formation displayed at a particular bus stop (e.g. `91532`) we could use the url [http://countdown.tfl.gov.uk/stopBoard/91532](http://countdown.tfl.gov.uk/stopBoard/91532).\n",
      "\n",
      "We can pull such information using python:"
     ]
    },
    {
     "cell_type": "code",
     "collapsed": false,
     "input": [
      "# choose a number between 0 and 19606\n",
      "stop = 1001\n",
      "\n",
      "this_name = busstops['Stop_Name'][stop]\n",
      "this_stop = bus_code[stop]\n",
      "\n",
      "print this_name,this_stop"
     ],
     "language": "python",
     "metadata": {},
     "outputs": [
      {
       "output_type": "stream",
       "stream": "stdout",
       "text": [
        "THORNTON HEATH POND / FAIRLANDS AVENUE 51274\n"
       ]
      }
     ],
     "prompt_number": 69
    },
    {
     "cell_type": "code",
     "collapsed": false,
     "input": [
      "# JavaScript Object Notation\n",
      "# Hypertext Transfer Protocol\n",
      "import json, httplib\n",
      "\n",
      "# connect to tfl server\n",
      "conn = httplib.HTTPConnection('countdown.tfl.gov.uk')\n",
      "\n",
      "# request information from server for bus stop ID 49756\n",
      "conn.request(\"GET\", \"/stopBoard/%s\" % this_stop)\n",
      "\n",
      "# pull the information from server\n",
      "response = conn.getresponse()\n",
      "\n",
      "# translate it into structure convenient for python\n",
      "# this is a dictionary\n",
      "buses = json.loads(response.read())"
     ],
     "language": "python",
     "metadata": {},
     "outputs": [],
     "prompt_number": 70
    },
    {
     "cell_type": "code",
     "collapsed": false,
     "input": [
      "print type(buses)\n",
      "print buses"
     ],
     "language": "python",
     "metadata": {},
     "outputs": [
      {
       "output_type": "stream",
       "stream": "stdout",
       "text": [
        "<type 'dict'>\n",
        "{u'serviceDisruptions': {u'criticalMessages': [], u'infoMessages': [], u'importantMessages': []}, u'filterOut': [], u'arrivals': [{u'scheduledTime': u'14:14', u'destination': u'Elmers End', u'isRealTime': True, u'routeId': u'289', u'isCancelled': False, u'routeName': u'289', u'estimatedWait': u'6 min'}, {u'scheduledTime': u'14:28', u'destination': u'Elmers End', u'isRealTime': True, u'routeId': u'289', u'isCancelled': False, u'routeName': u'289', u'estimatedWait': u'20 min'}], u'lastUpdated': u'14:07'}\n"
       ]
      }
     ],
     "prompt_number": 71
    },
    {
     "cell_type": "code",
     "collapsed": false,
     "input": [
      "# what information have we got? look at the dictionary keys\n",
      "print buses.keys()"
     ],
     "language": "python",
     "metadata": {},
     "outputs": [
      {
       "output_type": "stream",
       "stream": "stdout",
       "text": [
        "[u'serviceDisruptions', u'filterOut', u'arrivals', u'lastUpdated']\n"
       ]
      }
     ],
     "prompt_number": 72
    },
    {
     "cell_type": "code",
     "collapsed": false,
     "input": [
      "# we might like to look at arrivals\n",
      "arrivals = buses['arrivals']"
     ],
     "language": "python",
     "metadata": {},
     "outputs": [],
     "prompt_number": 73
    },
    {
     "cell_type": "code",
     "collapsed": false,
     "input": [
      "arrivals"
     ],
     "language": "python",
     "metadata": {},
     "outputs": [
      {
       "metadata": {},
       "output_type": "pyout",
       "prompt_number": 74,
       "text": [
        "[{u'destination': u'Elmers End',\n",
        "  u'estimatedWait': u'6 min',\n",
        "  u'isCancelled': False,\n",
        "  u'isRealTime': True,\n",
        "  u'routeId': u'289',\n",
        "  u'routeName': u'289',\n",
        "  u'scheduledTime': u'14:14'},\n",
        " {u'destination': u'Elmers End',\n",
        "  u'estimatedWait': u'20 min',\n",
        "  u'isCancelled': False,\n",
        "  u'isRealTime': True,\n",
        "  u'routeId': u'289',\n",
        "  u'routeName': u'289',\n",
        "  u'scheduledTime': u'14:28'}]"
       ]
      }
     ],
     "prompt_number": 74
    },
    {
     "cell_type": "markdown",
     "metadata": {},
     "source": [
      "So, when we looked at the value of the 'arrivals' key in the dictionary, we stored the data in a variable called `arrivals`.\n",
      "\n",
      "This is a `list`:"
     ]
    },
    {
     "cell_type": "code",
     "collapsed": false,
     "input": [
      "# whats the time now? out of interest \n",
      "from time import gmtime, strftime\n",
      "\n",
      "print strftime(\"%Y-%m-%d %H:%M:%S\", gmtime())"
     ],
     "language": "python",
     "metadata": {},
     "outputs": [
      {
       "output_type": "stream",
       "stream": "stdout",
       "text": [
        "2014-11-27 14:07:57\n"
       ]
      }
     ],
     "prompt_number": 75
    },
    {
     "cell_type": "code",
     "collapsed": false,
     "input": [
      "# now lets look at some of the data fields\n",
      "# take the first entry in arrivals\n",
      "\n",
      "i = 0\n",
      "\n",
      "bus = arrivals[i]\n",
      "print 'bus',bus['routeId'],'to',bus['destination'],\\\n",
      "        'due',bus['scheduledTime'],'arriving at',this_name,\\\n",
      "        'in',bus['estimatedWait']\n",
      "\n"
     ],
     "language": "python",
     "metadata": {},
     "outputs": [
      {
       "output_type": "stream",
       "stream": "stdout",
       "text": [
        "bus 289 to Elmers End due 14:14 arriving at THORNTON HEATH POND / FAIRLANDS AVENUE in 6 min\n"
       ]
      }
     ],
     "prompt_number": 76
    },
    {
     "cell_type": "code",
     "collapsed": false,
     "input": [
      "# do a 'loop' over each entry\n",
      "for bus in arrivals:\n",
      "    print 'bus',bus['routeId'],'to',bus['destination'],\\\n",
      "        'due',bus['scheduledTime'],'arriving at',this_name,\\\n",
      "        'in',bus['estimatedWait']"
     ],
     "language": "python",
     "metadata": {},
     "outputs": [
      {
       "output_type": "stream",
       "stream": "stdout",
       "text": [
        "bus 289 to Elmers End due 14:14 arriving at THORNTON HEATH POND / FAIRLANDS AVENUE in 6 min\n",
        "bus 289 to Elmers End due 14:28 arriving at THORNTON HEATH POND / FAIRLANDS AVENUE in 20 min\n"
       ]
      }
     ],
     "prompt_number": 77
    }
   ],
   "metadata": {}
  }
 ]
}