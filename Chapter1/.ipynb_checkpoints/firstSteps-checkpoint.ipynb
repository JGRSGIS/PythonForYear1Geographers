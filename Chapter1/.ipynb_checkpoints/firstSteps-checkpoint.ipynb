{
 "metadata": {
  "name": "",
  "signature": "sha256:8ea64d53929e4b6ca37651699af92e6b7885630bef2cb765c23681023c73176f"
 },
 "nbformat": 3,
 "nbformat_minor": 0,
 "worksheets": [
  {
   "cells": [
    {
     "cell_type": "code",
     "collapsed": false,
     "input": [],
     "language": "python",
     "metadata": {},
     "outputs": []
    }
   ],
   "metadata": {}
  }
 ]
}