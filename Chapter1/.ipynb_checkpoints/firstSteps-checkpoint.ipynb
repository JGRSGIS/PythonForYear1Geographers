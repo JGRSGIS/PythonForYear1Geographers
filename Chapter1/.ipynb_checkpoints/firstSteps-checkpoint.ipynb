{
 "metadata": {
  "name": "",
  "signature": "sha256:5ca439b9e6469b60c8801b7ef58926658bdecaacab473f43279667abeb8643ff"
 },
 "nbformat": 3,
 "nbformat_minor": 0,
 "worksheets": [
  {
   "cells": [
    {
     "cell_type": "code",
     "collapsed": false,
     "input": [
      "print 'hello world'"
     ],
     "language": "python",
     "metadata": {},
     "outputs": [
      {
       "output_type": "stream",
       "stream": "stdout",
       "text": [
        "hello world\n"
       ]
      }
     ],
     "prompt_number": 1
    },
    {
     "cell_type": "code",
     "collapsed": false,
     "input": [],
     "language": "python",
     "metadata": {},
     "outputs": []
    }
   ],
   "metadata": {}
  }
 ]
}