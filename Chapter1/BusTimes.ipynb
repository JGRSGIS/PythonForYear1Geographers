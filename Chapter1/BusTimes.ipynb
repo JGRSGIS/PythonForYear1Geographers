{
 "metadata": {
  "name": "",
  "signature": "sha256:8887d8a6d862070fab11badf04de7222915f74034fc1729e5317ca145346b227"
 },
 "nbformat": 3,
 "nbformat_minor": 0,
 "worksheets": [
  {
   "cells": [
    {
     "cell_type": "heading",
     "level": 1,
     "metadata": {},
     "source": [
      "1.3 Pulling a data feed from the web"
     ]
    },
    {
     "cell_type": "heading",
     "level": 2,
     "metadata": {},
     "source": [
      "1.3.1 Read some data from a file"
     ]
    },
    {
     "cell_type": "markdown",
     "metadata": {},
     "source": [
      "You will probably be used to standing at a bus stop and looking at your phone or the bus stop sign to see how long you have to wait for a bus.\n",
      "\n",
      "TFL make such data publically available, so we can do some analysis on it.\n",
      "\n",
      "First, we need to read a (csv) file that contains information on the bus stop codes that TFL use (these are written on a yellow sign on each bus stop in London)."
     ]
    },
    {
     "cell_type": "code",
     "collapsed": false,
     "input": [
      "import numpy as np\n",
      "\n",
      "# the first line of the file is:\n",
      "labels = \"Stop_Code_LBSL,Bus_Stop_Code,Naptan_Atco,Stop_Name,Location_Easting,\"\\\n",
      "            + \"Location_Northing,Heading,Stop_Area,Virtual_Bus_Stop\"\n",
      "# split this string on , to get the column headings\n",
      "keys = labels.split(',')\n",
      "\n",
      "busdata = np.loadtxt('data/busstops.csv',unpack=True,delimiter =',',dtype=str)"
     ],
     "language": "python",
     "metadata": {},
     "outputs": [],
     "prompt_number": 1
    },
    {
     "cell_type": "code",
     "collapsed": false,
     "input": [
      "# this is an array, with 9 columns and 19606 rows!!!\n",
      "# so 19606 bus stops covered\n",
      "busdata.shape"
     ],
     "language": "python",
     "metadata": {},
     "outputs": [
      {
       "metadata": {},
       "output_type": "pyout",
       "prompt_number": 2,
       "text": [
        "(9, 19606)"
       ]
      }
     ],
     "prompt_number": 2
    },
    {
     "cell_type": "code",
     "collapsed": false,
     "input": [
      "# we can combine the labels with the datasets \n",
      "# with a method called zip\n",
      "# and make what we call a dictionary\n",
      "\n",
      "busstops = dict(zip(keys,busdata))"
     ],
     "language": "python",
     "metadata": {},
     "outputs": [],
     "prompt_number": 3
    },
    {
     "cell_type": "code",
     "collapsed": false,
     "input": [
      "# so these are the columns of data\n",
      "print busstops.keys()"
     ],
     "language": "python",
     "metadata": {},
     "outputs": [
      {
       "output_type": "stream",
       "stream": "stdout",
       "text": [
        "['Naptan_Atco', 'Stop_Area', 'Stop_Code_LBSL', 'Virtual_Bus_Stop', 'Bus_Stop_Code', 'Location_Easting', 'Stop_Name', 'Heading', 'Location_Northing']\n"
       ]
      }
     ],
     "prompt_number": 4
    },
    {
     "cell_type": "code",
     "collapsed": false,
     "input": [
      "%matplotlib inline\n",
      "import matplotlib.pyplot as plt\n",
      "import numpy as np\n",
      "\n",
      "we_want = {'Location_Easting':float,\\\n",
      "          'Location_Northing':float,\\\n",
      "          'Heading ':float}\n",
      "\n",
      "for l,k in we_want.items():\n",
      "    busstops[l] = np.array([busstops['sitelist'][i][l] \\\n",
      "        for i in xrange(nsites)]).astype(k)\n",
      "\n",
      "\n",
      "\n",
      "plt.plot(busstops['Location_Easting'],busstops['Location_Northing'])"
     ],
     "language": "python",
     "metadata": {},
     "outputs": [
      {
       "ename": "NameError",
       "evalue": "name 'busstops' is not defined",
       "output_type": "pyerr",
       "traceback": [
        "\u001b[0;31m---------------------------------------------------------------------------\u001b[0m\n\u001b[0;31mNameError\u001b[0m                                 Traceback (most recent call last)",
        "\u001b[0;32m<ipython-input-6-2bd1bbda1656>\u001b[0m in \u001b[0;36m<module>\u001b[0;34m()\u001b[0m\n\u001b[1;32m      3\u001b[0m \u001b[0;32mimport\u001b[0m \u001b[0mnumpy\u001b[0m \u001b[0;32mas\u001b[0m \u001b[0mnp\u001b[0m\u001b[0;34m\u001b[0m\u001b[0m\n\u001b[1;32m      4\u001b[0m \u001b[0;34m\u001b[0m\u001b[0m\n\u001b[0;32m----> 5\u001b[0;31m \u001b[0mplt\u001b[0m\u001b[0;34m.\u001b[0m\u001b[0mplot\u001b[0m\u001b[0;34m(\u001b[0m\u001b[0mbusstops\u001b[0m\u001b[0;34m[\u001b[0m\u001b[0;34m'Location_Easting'\u001b[0m\u001b[0;34m]\u001b[0m\u001b[0;34m,\u001b[0m\u001b[0mbusstops\u001b[0m\u001b[0;34m[\u001b[0m\u001b[0;34m'Location_Northing'\u001b[0m\u001b[0;34m]\u001b[0m\u001b[0;34m)\u001b[0m\u001b[0;34m\u001b[0m\u001b[0m\n\u001b[0m",
        "\u001b[0;31mNameError\u001b[0m: name 'busstops' is not defined"
       ]
      }
     ],
     "prompt_number": 6
    },
    {
     "cell_type": "code",
     "collapsed": false,
     "input": [
      "# e.g. lets look at Bus_Stop_Code \n",
      "bus_code = busstops['Bus_Stop_Code']"
     ],
     "language": "python",
     "metadata": {},
     "outputs": [],
     "prompt_number": 5
    },
    {
     "cell_type": "code",
     "collapsed": false,
     "input": [
      "print bus_code"
     ],
     "language": "python",
     "metadata": {},
     "outputs": [
      {
       "output_type": "stream",
       "stream": "stdout",
       "text": [
        "['91532' '72689' '48461' ..., '72340' '52336' '56604']\n"
       ]
      }
     ],
     "prompt_number": 6
    },
    {
     "cell_type": "heading",
     "level": 2,
     "metadata": {},
     "source": [
      "1.3.2 make a web request"
     ]
    },
    {
     "cell_type": "markdown",
     "metadata": {},
     "source": [
      "Access to the bus information is via sending a request (for specific information) to the tfl server `countdown.tfl.gov.uk`.\n",
      "\n",
      "For instance, if we want the in formation displayed at a particular bus stop (e.g. `91532`) we could use the url [http://countdown.tfl.gov.uk/stopBoard/91532](http://countdown.tfl.gov.uk/stopBoard/91532).\n",
      "\n",
      "We can pull such information using python:"
     ]
    },
    {
     "cell_type": "code",
     "collapsed": false,
     "input": [
      "# choose a number between 0 and 19606\n",
      "stop = 1001\n",
      "\n",
      "this_name = busstops['Stop_Name'][stop]\n",
      "this_stop = bus_code[stop]\n",
      "\n",
      "print this_name,this_stop"
     ],
     "language": "python",
     "metadata": {},
     "outputs": [
      {
       "output_type": "stream",
       "stream": "stdout",
       "text": [
        "THORNTON HEATH POND / FAIRLANDS AVENUE 51274\n"
       ]
      }
     ],
     "prompt_number": 7
    },
    {
     "cell_type": "code",
     "collapsed": false,
     "input": [
      "# JavaScript Object Notation\n",
      "# Hypertext Transfer Protocol\n",
      "import json, httplib\n",
      "\n",
      "# connect to tfl server\n",
      "conn = httplib.HTTPConnection('countdown.tfl.gov.uk')\n",
      "\n",
      "# request information from server for bus stop ID 49756\n",
      "conn.request(\"GET\", \"/stopBoard/%s\" % this_stop)\n",
      "\n",
      "# pull the information from server\n",
      "response = conn.getresponse()\n",
      "\n",
      "# translate it into structure convenient for python\n",
      "# this is a dictionary\n",
      "buses = json.loads(response.read())"
     ],
     "language": "python",
     "metadata": {},
     "outputs": [],
     "prompt_number": 8
    },
    {
     "cell_type": "code",
     "collapsed": false,
     "input": [
      "print type(buses)\n",
      "print buses"
     ],
     "language": "python",
     "metadata": {},
     "outputs": [
      {
       "output_type": "stream",
       "stream": "stdout",
       "text": [
        "<type 'dict'>\n",
        "{u'serviceDisruptions': {u'criticalMessages': [], u'infoMessages': [], u'importantMessages': []}, u'filterOut': [], u'arrivals': [{u'scheduledTime': u'20:54', u'destination': u'Elmers End', u'isRealTime': True, u'routeId': u'289', u'isCancelled': False, u'routeName': u'289', u'estimatedWait': u'9 min'}], u'lastUpdated': u'20:45'}\n"
       ]
      }
     ],
     "prompt_number": 9
    },
    {
     "cell_type": "code",
     "collapsed": false,
     "input": [
      "# what information have we got? look at the dictionary keys\n",
      "print buses.keys()"
     ],
     "language": "python",
     "metadata": {},
     "outputs": [
      {
       "output_type": "stream",
       "stream": "stdout",
       "text": [
        "[u'serviceDisruptions', u'filterOut', u'arrivals', u'lastUpdated']\n"
       ]
      }
     ],
     "prompt_number": 10
    },
    {
     "cell_type": "code",
     "collapsed": false,
     "input": [
      "# we might like to look at arrivals\n",
      "arrivals = buses['arrivals']"
     ],
     "language": "python",
     "metadata": {},
     "outputs": [],
     "prompt_number": 11
    },
    {
     "cell_type": "code",
     "collapsed": false,
     "input": [
      "arrivals"
     ],
     "language": "python",
     "metadata": {},
     "outputs": [
      {
       "metadata": {},
       "output_type": "pyout",
       "prompt_number": 12,
       "text": [
        "[{u'destination': u'Elmers End',\n",
        "  u'estimatedWait': u'9 min',\n",
        "  u'isCancelled': False,\n",
        "  u'isRealTime': True,\n",
        "  u'routeId': u'289',\n",
        "  u'routeName': u'289',\n",
        "  u'scheduledTime': u'20:54'}]"
       ]
      }
     ],
     "prompt_number": 12
    },
    {
     "cell_type": "markdown",
     "metadata": {},
     "source": [
      "So, when we looked at the value of the 'arrivals' key in the dictionary, we stored the data in a variable called `arrivals`.\n",
      "\n",
      "This is a `list`:"
     ]
    },
    {
     "cell_type": "code",
     "collapsed": false,
     "input": [
      "# whats the time now? out of interest \n",
      "from time import gmtime, strftime\n",
      "\n",
      "print strftime(\"%Y-%m-%d %H:%M:%S\", gmtime())"
     ],
     "language": "python",
     "metadata": {},
     "outputs": [
      {
       "output_type": "stream",
       "stream": "stdout",
       "text": [
        "2014-12-03 20:45:07\n"
       ]
      }
     ],
     "prompt_number": 13
    },
    {
     "cell_type": "code",
     "collapsed": false,
     "input": [
      "# now lets look at some of the data fields\n",
      "# take the first entry in arrivals\n",
      "\n",
      "i = 0\n",
      "\n",
      "bus = arrivals[i]\n",
      "print 'bus',bus['routeId'],'to',bus['destination'],\\\n",
      "        'due',bus['scheduledTime'],'arriving at',this_name,\\\n",
      "        'in',bus['estimatedWait']\n",
      "\n"
     ],
     "language": "python",
     "metadata": {},
     "outputs": [
      {
       "output_type": "stream",
       "stream": "stdout",
       "text": [
        "bus 289 to Elmers End due 20:54 arriving at THORNTON HEATH POND / FAIRLANDS AVENUE in 9 min\n"
       ]
      }
     ],
     "prompt_number": 14
    },
    {
     "cell_type": "code",
     "collapsed": false,
     "input": [
      "# do a 'loop' over each entry\n",
      "for bus in arrivals:\n",
      "    print 'bus',bus['routeId'],'to',bus['destination'],\\\n",
      "        'due',bus['scheduledTime'],'arriving at',this_name,\\\n",
      "        'in',bus['estimatedWait']"
     ],
     "language": "python",
     "metadata": {},
     "outputs": [
      {
       "output_type": "stream",
       "stream": "stdout",
       "text": [
        "bus 289 to Elmers End due 20:54 arriving at THORNTON HEATH POND / FAIRLANDS AVENUE in 9 min\n"
       ]
      }
     ],
     "prompt_number": 15
    },
    {
     "cell_type": "heading",
     "level": 2,
     "metadata": {},
     "source": [
      "Exercise"
     ]
    },
    {
     "cell_type": "markdown",
     "metadata": {},
     "source": [
      "You may recall from above that the infornation we loaded from the data file contained more than just the bus stop IDs. \n",
      "\n",
      "Of particular interest may be:"
     ]
    },
    {
     "cell_type": "code",
     "collapsed": false,
     "input": [
      "interesting = ['Location_Easting', \"Location_Northing\", \"Heading\"]"
     ],
     "language": "python",
     "metadata": {},
     "outputs": [],
     "prompt_number": 1
    },
    {
     "cell_type": "code",
     "collapsed": false,
     "input": [
      "# JavaScript Object Notation\n",
      "# Hypertext Transfer Protocol\n",
      "import json, httplib\n",
      "from time import gmtime, strftime\n",
      "\n",
      "# get the time now\n",
      "now = gmtime()\n",
      "print strftime(\"%Y-%m-%d %H:%M:%S\", now)\n",
      "# connect to tfl server\n",
      "\n",
      "conn = httplib.HTTPConnection('datapoint.metoffice.gov.uk')\n",
      "print conn\n",
      "\n",
      "source_address='/public/data/val/wxfcs/all/json'\n",
      "# you will *need* to put your own key in here\n",
      "key = '3972bc3d-d035-4b06-8f11-64f152c1313b'"
     ],
     "language": "python",
     "metadata": {},
     "outputs": [
      {
       "output_type": "stream",
       "stream": "stdout",
       "text": [
        "2014-12-03 22:00:31\n",
        "<httplib.HTTPConnection instance at 0x10334cab8>\n"
       ]
      }
     ],
     "prompt_number": 1
    },
    {
     "cell_type": "code",
     "collapsed": false,
     "input": [
      "# we have to do this next bit a lot, so lets\n",
      "# wrap it up in a method (a function)\n",
      "#\n",
      "def pull(info,conn,source_address=source_address,key=key):\n",
      "    '''\n",
      "    request information from server, get response,\n",
      "    and pull and interpret the json data\n",
      "    '''\n",
      "    #print \"%s/%s&key=%s\"% (source_address, info, key)\n",
      "    conn.request(\"GET\", \"%s/%s&key=%s\"\\\n",
      "                 % (source_address, info, key) )\n",
      "    response = conn.getresponse()\n",
      "    return json.loads(response.read())\n",
      "\n",
      "# make an empty dictionary\n",
      "# to put the things we read into\n",
      "# called 'data'\n",
      "data = {}\n",
      "    \n",
      "# what to pull ... api coding\n",
      "\n",
      "# First, we get the times for which weather\n",
      "# forecasts are available (N.B. only\n",
      "# updated 3 hourly\n",
      "s3hourly = \"capabilities?res=3hourly\"\n",
      "data['3hourly'] = pull(s3hourly,conn)['Resource']['TimeSteps']['TS']\n",
      "\n",
      "# This will now get the list of sites\n",
      "ssitelist = \"sitelist?res=3hourly\"\n",
      "data['sitelist'] = pull(ssitelist,conn)['Locations']['Location']\n",
      "\n",
      "# let us know how many there are\n",
      "nsites = len(data['sitelist'])\n",
      "print 'there are',nsites,'locations'"
     ],
     "language": "python",
     "metadata": {},
     "outputs": [
      {
       "output_type": "stream",
       "stream": "stdout",
       "text": [
        "there are 5968 locations\n"
       ]
      }
     ],
     "prompt_number": 2
    },
    {
     "cell_type": "code",
     "collapsed": false,
     "input": [
      "# lets look at the first one\n",
      "i = 0\n",
      "\n",
      "# and see what we can access in the \n",
      "# sitelist dictionary\n",
      "print 'the keys are:'\n",
      "thekeys = data['sitelist'][i].keys()\n",
      "print thekeys\n",
      "\n",
      "for k in thekeys:\n",
      "    print k,data['sitelist'][i][k]"
     ],
     "language": "python",
     "metadata": {},
     "outputs": [
      {
       "output_type": "stream",
       "stream": "stdout",
       "text": [
        "the keys are:\n",
        "[u'elevation', u'name', u'region', u'longitude', u'nationalPark', u'latitude', u'unitaryAuthArea', u'id']\n",
        "elevation 933.0\n",
        "name Cairnwell\n",
        "region ta\n",
        "longitude -3.42\n",
        "nationalPark Cairngorms National Park\n",
        "latitude 56.879\n",
        "unitaryAuthArea Perth and Kinross\n",
        "id 3072\n"
       ]
      }
     ],
     "prompt_number": 3
    },
    {
     "cell_type": "code",
     "collapsed": false,
     "input": [
      "%matplotlib inline\n",
      "import matplotlib.pyplot as plt\n",
      "import numpy as np\n",
      "\n",
      "# all we really want are the latitude, longitude\n",
      "# and id for the moment\n",
      "we_want = {'latitude':float,\\\n",
      "          'longitude':float,\\\n",
      "          'id':int}\n",
      "\n",
      "for l,k in we_want.items():\n",
      "    data[l] = np.array([data['sitelist'][i][l] \\\n",
      "        for i in xrange(nsites)]).astype(k)\n",
      "\n",
      "# lets plot the lat / long\n",
      "# to see it looks ok\n",
      "plt.plot(data['longitude'],data['latitude'],'+')"
     ],
     "language": "python",
     "metadata": {},
     "outputs": [
      {
       "metadata": {},
       "output_type": "pyout",
       "prompt_number": 4,
       "text": [
        "[<matplotlib.lines.Line2D at 0x105da0110>]"
       ]
      },
      {
       "metadata": {},
       "output_type": "display_data",
       "png": "[encoded data removed]",
       "text": [
        "<matplotlib.figure.Figure at 0x103369590>"
       ]
      }
     ],
     "prompt_number": 4
    },
    {
     "cell_type": "code",
     "collapsed": false,
     "input": [
      "print 'these are the IDs',data['id']"
     ],
     "language": "python",
     "metadata": {},
     "outputs": [
      {
       "output_type": "stream",
       "stream": "stdout",
       "text": [
        "these are the IDs [  3072   3088   3094 ..., 354977 354986 354988]\n"
       ]
      }
     ],
     "prompt_number": 5
    },
    {
     "cell_type": "code",
     "collapsed": false,
     "input": [
      "# unfortunately, the location data we have\n",
      "# for the bus stops in in UK national grid"
     ],
     "language": "python",
     "metadata": {},
     "outputs": [
      {
       "metadata": {},
       "output_type": "pyout",
       "prompt_number": 78,
       "text": [
        "[('latitude', float), ('id', int), ('longitude', float)]"
       ]
      }
     ],
     "prompt_number": 78
    },
    {
     "cell_type": "code",
     "collapsed": false,
     "input": [
      "from osgeo import ogr\n",
      "\n",
      "geojson = \"\"\"{\"type\":\"Point\",\"coordinates\":[108420.33,753808.59]}\"\"\"\n",
      "point = ogr.CreateGeometryFromJson(geojson)\n",
      "print \"%d,%d\" % (point.GetX(), point.GetY())"
     ],
     "language": "python",
     "metadata": {},
     "outputs": [
      {
       "output_type": "stream",
       "stream": "stdout",
       "text": [
        "108420,753808\n"
       ]
      }
     ],
     "prompt_number": 12
    },
    {
     "cell_type": "code",
     "collapsed": false,
     "input": [
      "point.AssignSpatialReference?"
     ],
     "language": "python",
     "metadata": {},
     "outputs": [],
     "prompt_number": 13
    },
    {
     "cell_type": "code",
     "collapsed": false,
     "input": [],
     "language": "python",
     "metadata": {},
     "outputs": []
    }
   ],
   "metadata": {}
  }
 ]
}