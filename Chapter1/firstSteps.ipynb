{
 "metadata": {
  "name": "",
  "signature": "sha256:399af1cf6c8cd4597660321c7e92584666936a2c09ec65bf71da5b7b2b8c95f3"
 },
 "nbformat": 3,
 "nbformat_minor": 0,
 "worksheets": [
  {
   "cells": [
    {
     "cell_type": "heading",
     "level": 1,
     "metadata": {},
     "source": [
      "1.1 First Steps in Python"
     ]
    },
    {
     "cell_type": "markdown",
     "metadata": {},
     "source": [
      "In this session, we gently introduce some programming fundamentals.\n",
      "\n",
      "In particular, you will learn:\n",
      "\n",
      "* printing values\n",
      "* what a variable is and how it is set\n",
      "\n",
      "There are *many* tutorials for learning pthon available on the web, for instance that from [python.org](https://docs.python.org/2/tutorial/introduction.html). After you have been through this notebook, you should identify one or more such introductions (to suit your taste / level of experience) to reinforce the material we cover here and to learn more about python."
     ]
    },
    {
     "cell_type": "heading",
     "level": 2,
     "metadata": {},
     "source": [
      "1.1.1 Printing Hello World"
     ]
    },
    {
     "cell_type": "markdown",
     "metadata": {},
     "source": [
      "We start with the traditional first steps for writing computer code: \n",
      "\n",
      "* *write a program that prints out \"hello world\"*."
     ]
    },
    {
     "cell_type": "code",
     "collapsed": false,
     "input": [
      "# anything after a 'hash' # is a comment\n",
      "# A comment is there so we can explain what we are doing \n",
      "# in the code (to ourselves, when we rediscover this code\n",
      "# in a years time, or to others who look at it)\n",
      "\n",
      "\n",
      "# we can also use 'triple' quotes (''')\n",
      "# for comments (or multi-line strings)\n",
      "\n",
      "'''\n",
      "    use the 'print' statement ('command', if you like) to\n",
      "    print the *string* \"hello world\"\n",
      "'''\n",
      "\n",
      "print 'hello world'"
     ],
     "language": "python",
     "metadata": {},
     "outputs": [
      {
       "output_type": "stream",
       "stream": "stdout",
       "text": [
        "hello world\n"
       ]
      }
     ],
     "prompt_number": 1
    },
    {
     "cell_type": "markdown",
     "metadata": {},
     "source": [
      "Lets now think about what happened here.\n",
      "\n",
      "First, we wrote some comments (using # or ''') to put some context to the work we are doing.\n",
      "\n",
      "Then, we used the [print](https://docs.python.org/2/reference/simple_stmts.html#grammar-token-print_stmt) statement to 'print out' the [string](http://www.tutorialspoint.com/python/python_strings.htm) 'hello world'.\n",
      "\n",
      "We tell the computer that we intended this to be a *string* by enclosing it in quotes."
     ]
    },
    {
     "cell_type": "heading",
     "level": 2,
     "metadata": {},
     "source": [
      "1.1.2 Exercise "
     ]
    },
    {
     "cell_type": "markdown",
     "metadata": {},
     "source": [
      "You should run the cell above with the print statement, just to confirm to youself that it works as intended.\n",
      "\n",
      "Since you will want to add things to this notebook, you should first *rename* it (`File -> Rename...` from the notebook menu), and call it e.g. `MyFirstSteps.ipynb` (or something similar). The notebook will automatically be save every now and then, but you should also click on the `Save` button when you have achieved something you want to save.\n",
      "\n",
      "Next, create a new cell (`Insert -> Insert Cell Below` from the notebook menu), as below:"
     ]
    },
    {
     "cell_type": "code",
     "collapsed": false,
     "input": [],
     "language": "python",
     "metadata": {},
     "outputs": [],
     "prompt_number": 6
    },
    {
     "cell_type": "markdown",
     "metadata": {},
     "source": [
      "and see what you can do with the `print` statement.\n",
      "\n",
      "Try seeing what happens if you use double quotes (`\"`) rather than single quotes (`'`) or if you use quotes within quotes.\n",
      "\n",
      "Try printing several strings, either using `print` statements on multiple lines, or by separating the words ('strings') you want to print by a comma.\n",
      "\n",
      "A copy of these notes, containing example answers is given in [`exfirstSteps.ipynb`](exfirstSteps.ipynb#Answer)."
     ]
    },
    {
     "cell_type": "heading",
     "level": 2,
     "metadata": {},
     "source": [
      "1.1.3 Variables"
     ]
    },
    {
     "cell_type": "markdown",
     "metadata": {},
     "source": [
      "A fundamental concept in coding is that of the *variable*.\n",
      "\n",
      "You could visualise this as a 'box' (that is contained within the computer memory), into which we can put objects.\n",
      "\n",
      "The *name of the variable* is then, if you like, a name you have written on the side of the box (so you can refer to that particular box (variable) later).\n",
      "\n",
      "We assign an object to a variable using `=`, as we do when writing an equation.\n",
      "\n",
      "So:"
     ]
    },
    {
     "cell_type": "code",
     "collapsed": false,
     "input": [
      "x = 'hello'\n",
      "y = 'world'"
     ],
     "language": "python",
     "metadata": {},
     "outputs": [],
     "prompt_number": 8
    },
    {
     "cell_type": "markdown",
     "metadata": {},
     "source": [
      "first sets up a variable *called* `x` (the name on the side of the box is `x`), and into this box, we put a `string` `hello`.\n",
      "\n",
      "next, we put a string `world` into (*assign*) a variable called `y`.\n",
      "\n",
      "we can now refer to these variables and manipulate them, e.g.:"
     ]
    },
    {
     "cell_type": "code",
     "collapsed": false,
     "input": [
      "print x,y\n",
      "# print 'nothing'?\n",
      "print \n",
      "print \"I have created a variable x, which is like a 'box' into which I put a string\",x\n",
      "print \"I have created a variable y, which is like a 'box' into which I put a string\",y"
     ],
     "language": "python",
     "metadata": {},
     "outputs": [
      {
       "output_type": "stream",
       "stream": "stdout",
       "text": [
        "hello world\n",
        "\n",
        "I have created a variable x, which is like a 'box' into which I put a string hello\n",
        "I have created a variable y, which is like a 'box' into which I put a string world\n"
       ]
      }
     ],
     "prompt_number": 15
    },
    {
     "cell_type": "code",
     "collapsed": false,
     "input": [
      "print 'the variable x contains',type(x),x"
     ],
     "language": "python",
     "metadata": {},
     "outputs": [
      {
       "output_type": "stream",
       "stream": "stdout",
       "text": [
        "the variable x contains <type 'str'> hello\n"
       ]
      }
     ],
     "prompt_number": 16
    },
    {
     "cell_type": "markdown",
     "metadata": {},
     "source": [
      "Here, we used a method `type()` which gives us (*returns*) the **data type** of what we specify in the round brackets. \n",
      "\n",
      "Things we put in the round brackets `()` of a method are called *arguments*.\n",
      "\n",
      "So here, we obtained the data type of the variable `x`. This was printed as `<type 'str'>`.\n",
      "\n",
      "Other common data types are *integer numbers* (whole numbers), known as `int`, and *floating point numbers* (decimal numbers), known as `float`:"
     ]
    },
    {
     "cell_type": "code",
     "collapsed": false,
     "input": [
      "# these are integers\n",
      "print 1,2,3\n",
      "print type(5)"
     ],
     "language": "python",
     "metadata": {},
     "outputs": [
      {
       "output_type": "stream",
       "stream": "stdout",
       "text": [
        "1 2 3\n",
        "<type 'int'>\n"
       ]
      }
     ],
     "prompt_number": 20
    },
    {
     "cell_type": "code",
     "collapsed": false,
     "input": [
      "# these are floating point numbers\n",
      "x = 1.0\n",
      "y = 2.9\n",
      "print x,y\n",
      "print type(x)"
     ],
     "language": "python",
     "metadata": {},
     "outputs": [
      {
       "output_type": "stream",
       "stream": "stdout",
       "text": [
        "1.0 2.9\n",
        "<type 'float'>\n"
       ]
      }
     ],
     "prompt_number": 19
    },
    {
     "cell_type": "markdown",
     "metadata": {},
     "source": [
      "As you might expect, we can perform *operations* (such as addition `+`, subtraction `-`, division `/`, multiplcation `*`, exponent `**`) on such numbers as we would in using a calculator:"
     ]
    },
    {
     "cell_type": "code",
     "collapsed": false,
     "input": [
      "# float\n",
      "print '1.0/2.0 is',1.0/2.0\n",
      "print '10 ** 2 is',10. ** 2"
     ],
     "language": "python",
     "metadata": {},
     "outputs": [
      {
       "output_type": "stream",
       "stream": "stdout",
       "text": [
        "1.0/2.0 is 0.5\n",
        "10 ** 2 is 100.0\n"
       ]
      }
     ],
     "prompt_number": 32
    },
    {
     "cell_type": "code",
     "collapsed": false,
     "input": [
      "# int\n",
      "print '4 * 3 =',4*3\n",
      "print '4/2 =',4/2\n",
      "# why is this so?\n",
      "print '3/2 =',3/2"
     ],
     "language": "python",
     "metadata": {},
     "outputs": [
      {
       "output_type": "stream",
       "stream": "stdout",
       "text": [
        "4 * 3 = 12\n",
        "4/2 = 2\n",
        "3/2 = 1\n"
       ]
      }
     ],
     "prompt_number": 28
    },
    {
     "cell_type": "markdown",
     "metadata": {},
     "source": [
      "some operators also work on strings:"
     ]
    },
    {
     "cell_type": "code",
     "collapsed": false,
     "input": [
      "print \"hello\" + \" \" + \"world\""
     ],
     "language": "python",
     "metadata": {},
     "outputs": [
      {
       "output_type": "stream",
       "stream": "stdout",
       "text": [
        "hello world\n"
       ]
      }
     ],
     "prompt_number": 24
    },
    {
     "cell_type": "code",
     "collapsed": false,
     "input": [
      "print \"hello..\" * 4"
     ],
     "language": "python",
     "metadata": {},
     "outputs": [
      {
       "output_type": "stream",
       "stream": "stdout",
       "text": [
        "hello..hello..hello..hello..\n"
       ]
      }
     ],
     "prompt_number": 26
    },
    {
     "cell_type": "markdown",
     "metadata": {},
     "source": [
      "We can generally convert between the data types:"
     ]
    },
    {
     "cell_type": "code",
     "collapsed": false,
     "input": [
      "x = float('12.0')\n",
      "y = str(100)\n",
      "z = int(1.2)\n",
      "\n",
      "print 'x',type(x),x\n",
      "print 'y',type(y),y\n",
      "print 'z',type(z),z"
     ],
     "language": "python",
     "metadata": {},
     "outputs": [
      {
       "output_type": "stream",
       "stream": "stdout",
       "text": [
        "x <type 'float'> 12.0\n",
        "y <type 'str'> 100\n",
        "z <type 'int'> 1\n"
       ]
      }
     ],
     "prompt_number": 38
    },
    {
     "cell_type": "heading",
     "level": 2,
     "metadata": {},
     "source": [
      "1.1.4 Exercise "
     ]
    },
    {
     "cell_type": "markdown",
     "metadata": {},
     "source": [
      "Explore using various operators (`+,-,*,/,**`) on floating point numbers, strings and integers.\n",
      "\n",
      "You should use variables to store your data, e.g.:"
     ]
    },
    {
     "cell_type": "code",
     "collapsed": false,
     "input": [
      "# variable *called* pi\n",
      "pi = 3.1415926536\n",
      "\n",
      "r = 10.0\n",
      "\n",
      "result_name = \"area of circle of radius \" + str(r) + \" is\"\n",
      "\n",
      "print result_name,pi * (r**2)"
     ],
     "language": "python",
     "metadata": {},
     "outputs": [
      {
       "output_type": "stream",
       "stream": "stdout",
       "text": [
        "area of circle of radius 10.0 is 314.15926536\n"
       ]
      }
     ],
     "prompt_number": 41
    },
    {
     "cell_type": "markdown",
     "metadata": {},
     "source": [
      "When you write each line of code, try to explain to yourself what you think is happening, and perhaps make some notes.\n",
      "\n",
      "e.g.:"
     ]
    },
    {
     "cell_type": "code",
     "collapsed": false,
     "input": [
      "'''\n",
      "    First, I calculate 4/5.\n",
      "\n",
      "    Since 5. is float (it has a decimal point), the 4 will become float\n",
      "\n",
      "    This value (the result of the calculation 4.0/5.0) is then\n",
      "    assigned to (\"stored in\") the valiable called x\n",
      "\n",
      "    i.e. I put the result of the calculation 4.0/5.0 (which I expect to be 0.8)\n",
      "    into a 'box' that I have given the name x (like writing 'x' on the side\n",
      "    of the box as a label for this particular box)\n",
      "'''\n",
      "x = 4/5.\n",
      "\n",
      "'''\n",
      "    Now I print out the value of the valiable x\n",
      "\n",
      "    i.e. I print out the contents of the box I called (labelled) x\n",
      "    This should be 0.8\n",
      "\n",
      "'''\n",
      "print x\n",
      "\n",
      "'''\n",
      "    Now I assign the *string* \"1.4\" to the variable called y\n",
      "\n",
      "    i.e. I make a box with a label y on it, and put a string variable\n",
      "    (a 'word' if you like) into this box.\n",
      "'''\n",
      "y = '1.4'\n",
      "\n",
      "'''\n",
      "    I convert ('cast') the contents of the string variable y to\n",
      "    go from being a string to a floating point number (which should be\n",
      "    the value 1.4), and add this (+) to the value of the variable x, \n",
      "    and assign this to the variable called z.\n",
      "\n",
      "    i.e. I take the contents of the box called x (which contains a float) and the \n",
      "    contents of the box called y (which is a string, but which I convert to float)\n",
      "    and add this to the contents of x. I then put this in a new 'box' that I call z.\n",
      "\n",
      "    Since x should be ('contain') 0.8 and float(y) should be 1.4, I expect (the contents of) \n",
      "    z to be set to 0.8 + 1.4, which is 2.2, so I expect the contents of the variable z\n",
      "    to be a floating point number that is 2.2\n",
      "\n",
      "'''\n",
      "z = x + float(y)\n",
      "\n",
      "'''\n",
      "    Finally print (the contents ('value' ) of) z and the type of z to see ...\n",
      "'''\n",
      "print z,type(z)"
     ],
     "language": "python",
     "metadata": {},
     "outputs": [
      {
       "output_type": "stream",
       "stream": "stdout",
       "text": [
        "0.8\n",
        "2.2 <type 'float'>\n"
       ]
      }
     ],
     "prompt_number": 50
    }
   ],
   "metadata": {}
  }
 ]
}